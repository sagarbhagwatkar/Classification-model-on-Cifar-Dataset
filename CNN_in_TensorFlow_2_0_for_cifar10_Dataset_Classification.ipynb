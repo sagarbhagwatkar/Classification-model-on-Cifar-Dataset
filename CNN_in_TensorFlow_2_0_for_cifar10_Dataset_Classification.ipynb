{
 "cells": [
  {
   "cell_type": "markdown",
   "metadata": {
    "colab_type": "text",
    "id": "f431WjbELUJF"
   },
   "source": [
    "## Download Data and Model Building"
   ]
  },
  {
   "cell_type": "code",
   "execution_count": 1,
   "metadata": {
    "colab": {
     "base_uri": "https://localhost:8080/",
     "height": 524
    },
    "colab_type": "code",
    "id": "j6jXjvslL5NR",
    "outputId": "15379cbe-9200-4753-8bc7-197528f543a0"
   },
   "outputs": [
    {
     "name": "stdout",
     "output_type": "stream",
     "text": [
      "Collecting tensorflow-gpu==2.0.0-rc0\n",
      "\u001b[?25l  Downloading https://files.pythonhosted.org/packages/6a/12/8c64cc62149cc21c70c55018502831bbf4d42bd62bed196df7de6830d21b/tensorflow_gpu-2.0.0rc0-cp36-cp36m-manylinux2010_x86_64.whl (380.5MB)\n",
      "\u001b[K     |████████████████████████████████| 380.5MB 46kB/s \n",
      "\u001b[?25hRequirement already satisfied: gast>=0.2.0 in /usr/local/lib/python3.6/dist-packages (from tensorflow-gpu==2.0.0-rc0) (0.2.2)\n",
      "Requirement already satisfied: six>=1.10.0 in /usr/local/lib/python3.6/dist-packages (from tensorflow-gpu==2.0.0-rc0) (1.12.0)\n",
      "Requirement already satisfied: termcolor>=1.1.0 in /usr/local/lib/python3.6/dist-packages (from tensorflow-gpu==2.0.0-rc0) (1.1.0)\n",
      "Requirement already satisfied: keras-preprocessing>=1.0.5 in /usr/local/lib/python3.6/dist-packages (from tensorflow-gpu==2.0.0-rc0) (1.1.0)\n",
      "Requirement already satisfied: wheel>=0.26 in /usr/local/lib/python3.6/dist-packages (from tensorflow-gpu==2.0.0-rc0) (0.33.6)\n",
      "Requirement already satisfied: absl-py>=0.7.0 in /usr/local/lib/python3.6/dist-packages (from tensorflow-gpu==2.0.0-rc0) (0.7.1)\n",
      "Requirement already satisfied: opt-einsum>=2.3.2 in /usr/local/lib/python3.6/dist-packages (from tensorflow-gpu==2.0.0-rc0) (3.0.1)\n",
      "Collecting tb-nightly<1.15.0a20190807,>=1.15.0a20190806 (from tensorflow-gpu==2.0.0-rc0)\n",
      "\u001b[?25l  Downloading https://files.pythonhosted.org/packages/bc/88/24b5fb7280e74c7cf65bde47c171547fd02afb3840cff41bcbe9270650f5/tb_nightly-1.15.0a20190806-py3-none-any.whl (4.3MB)\n",
      "\u001b[K     |████████████████████████████████| 4.3MB 33.4MB/s \n",
      "\u001b[?25hRequirement already satisfied: wrapt>=1.11.1 in /usr/local/lib/python3.6/dist-packages (from tensorflow-gpu==2.0.0-rc0) (1.11.2)\n",
      "Requirement already satisfied: google-pasta>=0.1.6 in /usr/local/lib/python3.6/dist-packages (from tensorflow-gpu==2.0.0-rc0) (0.1.7)\n",
      "Requirement already satisfied: numpy<2.0,>=1.16.0 in /usr/local/lib/python3.6/dist-packages (from tensorflow-gpu==2.0.0-rc0) (1.16.4)\n",
      "Requirement already satisfied: keras-applications>=1.0.8 in /usr/local/lib/python3.6/dist-packages (from tensorflow-gpu==2.0.0-rc0) (1.0.8)\n",
      "Requirement already satisfied: astor>=0.6.0 in /usr/local/lib/python3.6/dist-packages (from tensorflow-gpu==2.0.0-rc0) (0.8.0)\n",
      "Requirement already satisfied: grpcio>=1.8.6 in /usr/local/lib/python3.6/dist-packages (from tensorflow-gpu==2.0.0-rc0) (1.15.0)\n",
      "Collecting tf-estimator-nightly<1.14.0.dev2019080602,>=1.14.0.dev2019080601 (from tensorflow-gpu==2.0.0-rc0)\n",
      "\u001b[?25l  Downloading https://files.pythonhosted.org/packages/21/28/f2a27a62943d5f041e4a6fd404b2d21cb7c59b2242a4e73b03d9ba166552/tf_estimator_nightly-1.14.0.dev2019080601-py2.py3-none-any.whl (501kB)\n",
      "\u001b[K     |████████████████████████████████| 501kB 44.0MB/s \n",
      "\u001b[?25hRequirement already satisfied: protobuf>=3.6.1 in /usr/local/lib/python3.6/dist-packages (from tensorflow-gpu==2.0.0-rc0) (3.7.1)\n",
      "Requirement already satisfied: werkzeug>=0.11.15 in /usr/local/lib/python3.6/dist-packages (from tb-nightly<1.15.0a20190807,>=1.15.0a20190806->tensorflow-gpu==2.0.0-rc0) (0.15.5)\n",
      "Requirement already satisfied: markdown>=2.6.8 in /usr/local/lib/python3.6/dist-packages (from tb-nightly<1.15.0a20190807,>=1.15.0a20190806->tensorflow-gpu==2.0.0-rc0) (3.1.1)\n",
      "Requirement already satisfied: setuptools>=41.0.0 in /usr/local/lib/python3.6/dist-packages (from tb-nightly<1.15.0a20190807,>=1.15.0a20190806->tensorflow-gpu==2.0.0-rc0) (41.2.0)\n",
      "Requirement already satisfied: h5py in /usr/local/lib/python3.6/dist-packages (from keras-applications>=1.0.8->tensorflow-gpu==2.0.0-rc0) (2.8.0)\n",
      "Installing collected packages: tb-nightly, tf-estimator-nightly, tensorflow-gpu\n",
      "Successfully installed tb-nightly-1.15.0a20190806 tensorflow-gpu-2.0.0rc0 tf-estimator-nightly-1.14.0.dev2019080601\n"
     ]
    }
   ],
   "source": [
    "!pip install tensorflow-gpu==2.0.0-rc0"
   ]
  },
  {
   "cell_type": "code",
   "execution_count": 2,
   "metadata": {
    "colab": {
     "base_uri": "https://localhost:8080/",
     "height": 370
    },
    "colab_type": "code",
    "id": "NKvJh7iZuOzD",
    "outputId": "818b9b41-949f-499a-f502-fa604a529c96"
   },
   "outputs": [
    {
     "name": "stdout",
     "output_type": "stream",
     "text": [
      "Collecting mlxtend==0.17.0\n",
      "\u001b[?25l  Downloading https://files.pythonhosted.org/packages/52/04/c362f34f666f0ddc7cf593805e64d64fa670ed96fd9302e68549dd48287d/mlxtend-0.17.0-py2.py3-none-any.whl (1.3MB)\n",
      "\r",
      "\u001b[K     |▎                               | 10kB 13.1MB/s eta 0:00:01\r",
      "\u001b[K     |▌                               | 20kB 2.3MB/s eta 0:00:01\r",
      "\u001b[K     |▊                               | 30kB 3.3MB/s eta 0:00:01\r",
      "\u001b[K     |█                               | 40kB 2.1MB/s eta 0:00:01\r",
      "\u001b[K     |█▎                              | 51kB 2.6MB/s eta 0:00:01\r",
      "\u001b[K     |█▌                              | 61kB 3.1MB/s eta 0:00:01\r",
      "\u001b[K     |█▊                              | 71kB 3.6MB/s eta 0:00:01\r",
      "\u001b[K     |██                              | 81kB 4.0MB/s eta 0:00:01\r",
      "\u001b[K     |██▏                             | 92kB 4.5MB/s eta 0:00:01\r",
      "\u001b[K     |██▌                             | 102kB 3.5MB/s eta 0:00:01\r",
      "\u001b[K     |██▊                             | 112kB 3.5MB/s eta 0:00:01\r",
      "\u001b[K     |███                             | 122kB 3.5MB/s eta 0:00:01\r",
      "\u001b[K     |███▏                            | 133kB 3.5MB/s eta 0:00:01\r",
      "\u001b[K     |███▍                            | 143kB 3.5MB/s eta 0:00:01\r",
      "\u001b[K     |███▊                            | 153kB 3.5MB/s eta 0:00:01\r",
      "\u001b[K     |████                            | 163kB 3.5MB/s eta 0:00:01\r",
      "\u001b[K     |████▏                           | 174kB 3.5MB/s eta 0:00:01\r",
      "\u001b[K     |████▍                           | 184kB 3.5MB/s eta 0:00:01\r",
      "\u001b[K     |████▊                           | 194kB 3.5MB/s eta 0:00:01\r",
      "\u001b[K     |█████                           | 204kB 3.5MB/s eta 0:00:01\r",
      "\u001b[K     |█████▏                          | 215kB 3.5MB/s eta 0:00:01\r",
      "\u001b[K     |█████▍                          | 225kB 3.5MB/s eta 0:00:01\r",
      "\u001b[K     |█████▋                          | 235kB 3.5MB/s eta 0:00:01\r",
      "\u001b[K     |██████                          | 245kB 3.5MB/s eta 0:00:01\r",
      "\u001b[K     |██████▏                         | 256kB 3.5MB/s eta 0:00:01\r",
      "\u001b[K     |██████▍                         | 266kB 3.5MB/s eta 0:00:01\r",
      "\u001b[K     |██████▋                         | 276kB 3.5MB/s eta 0:00:01\r",
      "\u001b[K     |██████▉                         | 286kB 3.5MB/s eta 0:00:01\r",
      "\u001b[K     |███████▏                        | 296kB 3.5MB/s eta 0:00:01\r",
      "\u001b[K     |███████▍                        | 307kB 3.5MB/s eta 0:00:01\r",
      "\u001b[K     |███████▋                        | 317kB 3.5MB/s eta 0:00:01\r",
      "\u001b[K     |███████▉                        | 327kB 3.5MB/s eta 0:00:01\r",
      "\u001b[K     |████████                        | 337kB 3.5MB/s eta 0:00:01\r",
      "\u001b[K     |████████▍                       | 348kB 3.5MB/s eta 0:00:01\r",
      "\u001b[K     |████████▋                       | 358kB 3.5MB/s eta 0:00:01\r",
      "\u001b[K     |████████▉                       | 368kB 3.5MB/s eta 0:00:01\r",
      "\u001b[K     |█████████                       | 378kB 3.5MB/s eta 0:00:01\r",
      "\u001b[K     |█████████▍                      | 389kB 3.5MB/s eta 0:00:01\r",
      "\u001b[K     |█████████▋                      | 399kB 3.5MB/s eta 0:00:01\r",
      "\u001b[K     |█████████▉                      | 409kB 3.5MB/s eta 0:00:01\r",
      "\u001b[K     |██████████                      | 419kB 3.5MB/s eta 0:00:01\r",
      "\u001b[K     |██████████▎                     | 430kB 3.5MB/s eta 0:00:01\r",
      "\u001b[K     |██████████▋                     | 440kB 3.5MB/s eta 0:00:01\r",
      "\u001b[K     |██████████▉                     | 450kB 3.5MB/s eta 0:00:01\r",
      "\u001b[K     |███████████                     | 460kB 3.5MB/s eta 0:00:01\r",
      "\u001b[K     |███████████▎                    | 471kB 3.5MB/s eta 0:00:01\r",
      "\u001b[K     |███████████▌                    | 481kB 3.5MB/s eta 0:00:01\r",
      "\u001b[K     |███████████▉                    | 491kB 3.5MB/s eta 0:00:01\r",
      "\u001b[K     |████████████                    | 501kB 3.5MB/s eta 0:00:01\r",
      "\u001b[K     |████████████▎                   | 512kB 3.5MB/s eta 0:00:01\r",
      "\u001b[K     |████████████▌                   | 522kB 3.5MB/s eta 0:00:01\r",
      "\u001b[K     |████████████▊                   | 532kB 3.5MB/s eta 0:00:01\r",
      "\u001b[K     |█████████████                   | 542kB 3.5MB/s eta 0:00:01\r",
      "\u001b[K     |█████████████▎                  | 552kB 3.5MB/s eta 0:00:01\r",
      "\u001b[K     |█████████████▌                  | 563kB 3.5MB/s eta 0:00:01\r",
      "\u001b[K     |█████████████▊                  | 573kB 3.5MB/s eta 0:00:01\r",
      "\u001b[K     |██████████████                  | 583kB 3.5MB/s eta 0:00:01\r",
      "\u001b[K     |██████████████▎                 | 593kB 3.5MB/s eta 0:00:01\r",
      "\u001b[K     |██████████████▌                 | 604kB 3.5MB/s eta 0:00:01\r",
      "\u001b[K     |██████████████▊                 | 614kB 3.5MB/s eta 0:00:01\r",
      "\u001b[K     |███████████████                 | 624kB 3.5MB/s eta 0:00:01\r",
      "\u001b[K     |███████████████▎                | 634kB 3.5MB/s eta 0:00:01\r",
      "\u001b[K     |███████████████▌                | 645kB 3.5MB/s eta 0:00:01\r",
      "\u001b[K     |███████████████▊                | 655kB 3.5MB/s eta 0:00:01\r",
      "\u001b[K     |████████████████                | 665kB 3.5MB/s eta 0:00:01\r",
      "\u001b[K     |████████████████▏               | 675kB 3.5MB/s eta 0:00:01\r",
      "\u001b[K     |████████████████▌               | 686kB 3.5MB/s eta 0:00:01\r",
      "\u001b[K     |████████████████▊               | 696kB 3.5MB/s eta 0:00:01\r",
      "\u001b[K     |█████████████████               | 706kB 3.5MB/s eta 0:00:01\r",
      "\u001b[K     |█████████████████▏              | 716kB 3.5MB/s eta 0:00:01\r",
      "\u001b[K     |█████████████████▍              | 727kB 3.5MB/s eta 0:00:01\r",
      "\u001b[K     |█████████████████▊              | 737kB 3.5MB/s eta 0:00:01\r",
      "\u001b[K     |██████████████████              | 747kB 3.5MB/s eta 0:00:01\r",
      "\u001b[K     |██████████████████▏             | 757kB 3.5MB/s eta 0:00:01\r",
      "\u001b[K     |██████████████████▍             | 768kB 3.5MB/s eta 0:00:01\r",
      "\u001b[K     |██████████████████▊             | 778kB 3.5MB/s eta 0:00:01\r",
      "\u001b[K     |███████████████████             | 788kB 3.5MB/s eta 0:00:01\r",
      "\u001b[K     |███████████████████▏            | 798kB 3.5MB/s eta 0:00:01\r",
      "\u001b[K     |███████████████████▍            | 808kB 3.5MB/s eta 0:00:01\r",
      "\u001b[K     |███████████████████▋            | 819kB 3.5MB/s eta 0:00:01\r",
      "\u001b[K     |████████████████████            | 829kB 3.5MB/s eta 0:00:01\r",
      "\u001b[K     |████████████████████▏           | 839kB 3.5MB/s eta 0:00:01\r",
      "\u001b[K     |████████████████████▍           | 849kB 3.5MB/s eta 0:00:01\r",
      "\u001b[K     |████████████████████▋           | 860kB 3.5MB/s eta 0:00:01\r",
      "\u001b[K     |████████████████████▉           | 870kB 3.5MB/s eta 0:00:01\r",
      "\u001b[K     |█████████████████████▏          | 880kB 3.5MB/s eta 0:00:01\r",
      "\u001b[K     |█████████████████████▍          | 890kB 3.5MB/s eta 0:00:01\r",
      "\u001b[K     |█████████████████████▋          | 901kB 3.5MB/s eta 0:00:01\r",
      "\u001b[K     |█████████████████████▉          | 911kB 3.5MB/s eta 0:00:01\r",
      "\u001b[K     |██████████████████████          | 921kB 3.5MB/s eta 0:00:01\r",
      "\u001b[K     |██████████████████████▍         | 931kB 3.5MB/s eta 0:00:01\r",
      "\u001b[K     |██████████████████████▋         | 942kB 3.5MB/s eta 0:00:01\r",
      "\u001b[K     |██████████████████████▉         | 952kB 3.5MB/s eta 0:00:01\r",
      "\u001b[K     |███████████████████████         | 962kB 3.5MB/s eta 0:00:01\r",
      "\u001b[K     |███████████████████████▍        | 972kB 3.5MB/s eta 0:00:01\r",
      "\u001b[K     |███████████████████████▋        | 983kB 3.5MB/s eta 0:00:01\r",
      "\u001b[K     |███████████████████████▉        | 993kB 3.5MB/s eta 0:00:01\r",
      "\u001b[K     |████████████████████████        | 1.0MB 3.5MB/s eta 0:00:01\r",
      "\u001b[K     |████████████████████████▎       | 1.0MB 3.5MB/s eta 0:00:01\r",
      "\u001b[K     |████████████████████████▋       | 1.0MB 3.5MB/s eta 0:00:01\r",
      "\u001b[K     |████████████████████████▉       | 1.0MB 3.5MB/s eta 0:00:01\r",
      "\u001b[K     |█████████████████████████       | 1.0MB 3.5MB/s eta 0:00:01\r",
      "\u001b[K     |█████████████████████████▎      | 1.1MB 3.5MB/s eta 0:00:01\r",
      "\u001b[K     |█████████████████████████▌      | 1.1MB 3.5MB/s eta 0:00:01\r",
      "\u001b[K     |█████████████████████████▉      | 1.1MB 3.5MB/s eta 0:00:01\r",
      "\u001b[K     |██████████████████████████      | 1.1MB 3.5MB/s eta 0:00:01\r",
      "\u001b[K     |██████████████████████████▎     | 1.1MB 3.5MB/s eta 0:00:01\r",
      "\u001b[K     |██████████████████████████▌     | 1.1MB 3.5MB/s eta 0:00:01\r",
      "\u001b[K     |██████████████████████████▊     | 1.1MB 3.5MB/s eta 0:00:01\r",
      "\u001b[K     |███████████████████████████     | 1.1MB 3.5MB/s eta 0:00:01\r",
      "\u001b[K     |███████████████████████████▎    | 1.1MB 3.5MB/s eta 0:00:01\r",
      "\u001b[K     |███████████████████████████▌    | 1.1MB 3.5MB/s eta 0:00:01\r",
      "\u001b[K     |███████████████████████████▊    | 1.2MB 3.5MB/s eta 0:00:01\r",
      "\u001b[K     |████████████████████████████    | 1.2MB 3.5MB/s eta 0:00:01\r",
      "\u001b[K     |████████████████████████████▎   | 1.2MB 3.5MB/s eta 0:00:01\r",
      "\u001b[K     |████████████████████████████▌   | 1.2MB 3.5MB/s eta 0:00:01\r",
      "\u001b[K     |████████████████████████████▊   | 1.2MB 3.5MB/s eta 0:00:01\r",
      "\u001b[K     |█████████████████████████████   | 1.2MB 3.5MB/s eta 0:00:01\r",
      "\u001b[K     |█████████████████████████████▎  | 1.2MB 3.5MB/s eta 0:00:01\r",
      "\u001b[K     |█████████████████████████████▌  | 1.2MB 3.5MB/s eta 0:00:01\r",
      "\u001b[K     |█████████████████████████████▊  | 1.2MB 3.5MB/s eta 0:00:01\r",
      "\u001b[K     |██████████████████████████████  | 1.2MB 3.5MB/s eta 0:00:01\r",
      "\u001b[K     |██████████████████████████████▏ | 1.3MB 3.5MB/s eta 0:00:01\r",
      "\u001b[K     |██████████████████████████████▌ | 1.3MB 3.5MB/s eta 0:00:01\r",
      "\u001b[K     |██████████████████████████████▊ | 1.3MB 3.5MB/s eta 0:00:01\r",
      "\u001b[K     |███████████████████████████████ | 1.3MB 3.5MB/s eta 0:00:01\r",
      "\u001b[K     |███████████████████████████████▏| 1.3MB 3.5MB/s eta 0:00:01\r",
      "\u001b[K     |███████████████████████████████▌| 1.3MB 3.5MB/s eta 0:00:01\r",
      "\u001b[K     |███████████████████████████████▊| 1.3MB 3.5MB/s eta 0:00:01\r",
      "\u001b[K     |████████████████████████████████| 1.3MB 3.5MB/s eta 0:00:01\r",
      "\u001b[K     |████████████████████████████████| 1.3MB 3.5MB/s \n",
      "\u001b[?25hRequirement already satisfied: setuptools in /usr/local/lib/python3.6/dist-packages (from mlxtend==0.17.0) (41.2.0)\n",
      "Requirement already satisfied: pandas>=0.24.2 in /usr/local/lib/python3.6/dist-packages (from mlxtend==0.17.0) (0.24.2)\n",
      "Requirement already satisfied: scikit-learn>=0.20.3 in /usr/local/lib/python3.6/dist-packages (from mlxtend==0.17.0) (0.21.3)\n",
      "Requirement already satisfied: numpy>=1.16.2 in /usr/local/lib/python3.6/dist-packages (from mlxtend==0.17.0) (1.16.4)\n",
      "Requirement already satisfied: joblib>=0.13.2 in /usr/local/lib/python3.6/dist-packages (from mlxtend==0.17.0) (0.13.2)\n",
      "Requirement already satisfied: scipy>=1.2.1 in /usr/local/lib/python3.6/dist-packages (from mlxtend==0.17.0) (1.3.1)\n",
      "Requirement already satisfied: matplotlib>=3.0.0 in /usr/local/lib/python3.6/dist-packages (from mlxtend==0.17.0) (3.0.3)\n",
      "Requirement already satisfied: python-dateutil>=2.5.0 in /usr/local/lib/python3.6/dist-packages (from pandas>=0.24.2->mlxtend==0.17.0) (2.5.3)\n",
      "Requirement already satisfied: pytz>=2011k in /usr/local/lib/python3.6/dist-packages (from pandas>=0.24.2->mlxtend==0.17.0) (2018.9)\n",
      "Requirement already satisfied: kiwisolver>=1.0.1 in /usr/local/lib/python3.6/dist-packages (from matplotlib>=3.0.0->mlxtend==0.17.0) (1.1.0)\n",
      "Requirement already satisfied: cycler>=0.10 in /usr/local/lib/python3.6/dist-packages (from matplotlib>=3.0.0->mlxtend==0.17.0) (0.10.0)\n",
      "Requirement already satisfied: pyparsing!=2.0.4,!=2.1.2,!=2.1.6,>=2.0.1 in /usr/local/lib/python3.6/dist-packages (from matplotlib>=3.0.0->mlxtend==0.17.0) (2.4.2)\n",
      "Requirement already satisfied: six>=1.5 in /usr/local/lib/python3.6/dist-packages (from python-dateutil>=2.5.0->pandas>=0.24.2->mlxtend==0.17.0) (1.12.0)\n",
      "Installing collected packages: mlxtend\n",
      "  Found existing installation: mlxtend 0.14.0\n",
      "    Uninstalling mlxtend-0.14.0:\n",
      "      Successfully uninstalled mlxtend-0.14.0\n",
      "Successfully installed mlxtend-0.17.0\n"
     ]
    }
   ],
   "source": [
    "!pip install mlxtend==0.17.0"
   ]
  },
  {
   "cell_type": "code",
   "execution_count": 0,
   "metadata": {
    "colab": {},
    "colab_type": "code",
    "id": "IdQi30u3pg-m"
   },
   "outputs": [],
   "source": [
    "import tensorflow as tf\n",
    "from tensorflow.keras import Sequential\n",
    "from tensorflow.keras.layers import Flatten, Dense, Conv2D, MaxPool2D, Dropout"
   ]
  },
  {
   "cell_type": "code",
   "execution_count": 5,
   "metadata": {
    "colab": {
     "base_uri": "https://localhost:8080/",
     "height": 34
    },
    "colab_type": "code",
    "id": "28brD1iNphJv",
    "outputId": "6373a68f-4121-49c1-b279-8b598464e654"
   },
   "outputs": [
    {
     "name": "stdout",
     "output_type": "stream",
     "text": [
      "2.0.0-rc0\n"
     ]
    }
   ],
   "source": [
    "print(tf.__version__)"
   ]
  },
  {
   "cell_type": "code",
   "execution_count": 0,
   "metadata": {
    "colab": {},
    "colab_type": "code",
    "id": "YAnPhCEEphSi"
   },
   "outputs": [],
   "source": [
    "import numpy as np\n",
    "import matplotlib.pyplot as plt\n",
    "import matplotlib"
   ]
  },
  {
   "cell_type": "code",
   "execution_count": 0,
   "metadata": {
    "colab": {},
    "colab_type": "code",
    "id": "INsOHzeVLUKE"
   },
   "outputs": [],
   "source": [
    "from tensorflow.keras.datasets import cifar10"
   ]
  },
  {
   "cell_type": "code",
   "execution_count": 8,
   "metadata": {
    "colab": {
     "base_uri": "https://localhost:8080/",
     "height": 50
    },
    "colab_type": "code",
    "id": "qtDbUZ9f-pbv",
    "outputId": "77b54ff7-30a3-4ce2-c438-310a534e4983"
   },
   "outputs": [
    {
     "name": "stdout",
     "output_type": "stream",
     "text": [
      "Downloading data from https://www.cs.toronto.edu/~kriz/cifar-10-python.tar.gz\n",
      "170500096/170498071 [==============================] - 3s 0us/step\n"
     ]
    }
   ],
   "source": [
    "(X_train, y_train), (X_test, y_test) = cifar10.load_data()"
   ]
  },
  {
   "cell_type": "code",
   "execution_count": 0,
   "metadata": {
    "colab": {},
    "colab_type": "code",
    "id": "qE-RGBzX-zB-"
   },
   "outputs": [],
   "source": [
    "classes_name = ['airplane', 'automobile', 'bird', 'cat', 'deer', 'dog', 'frog', 'horse', 'ship', 'truck']"
   ]
  },
  {
   "cell_type": "code",
   "execution_count": 10,
   "metadata": {
    "colab": {
     "base_uri": "https://localhost:8080/",
     "height": 34
    },
    "colab_type": "code",
    "id": "WICrZ1_4_G7g",
    "outputId": "47be69dc-7da2-4a8a-f9aa-93d22dd3a4b8"
   },
   "outputs": [
    {
     "data": {
      "text/plain": [
       "255"
      ]
     },
     "execution_count": 10,
     "metadata": {
      "tags": []
     },
     "output_type": "execute_result"
    }
   ],
   "source": [
    "X_train.max()"
   ]
  },
  {
   "cell_type": "code",
   "execution_count": 0,
   "metadata": {
    "colab": {},
    "colab_type": "code",
    "id": "ItBZmpeI_Ni1"
   },
   "outputs": [],
   "source": [
    "X_train = X_train/255\n",
    "X_test = X_test/255"
   ]
  },
  {
   "cell_type": "code",
   "execution_count": 12,
   "metadata": {
    "colab": {
     "base_uri": "https://localhost:8080/",
     "height": 34
    },
    "colab_type": "code",
    "id": "E7yRun36_Z61",
    "outputId": "565a5791-16b9-44ae-c74e-f9f43b8739e6"
   },
   "outputs": [
    {
     "data": {
      "text/plain": [
       "(50000, 32, 32, 3)"
      ]
     },
     "execution_count": 12,
     "metadata": {
      "tags": []
     },
     "output_type": "execute_result"
    }
   ],
   "source": [
    "X_train.shape"
   ]
  },
  {
   "cell_type": "code",
   "execution_count": 13,
   "metadata": {
    "colab": {
     "base_uri": "https://localhost:8080/",
     "height": 34
    },
    "colab_type": "code",
    "id": "IZHrCj7C_cUk",
    "outputId": "7d7dca72-38ec-46ff-d420-64695e0594a1"
   },
   "outputs": [
    {
     "data": {
      "text/plain": [
       "(10000, 32, 32, 3)"
      ]
     },
     "execution_count": 13,
     "metadata": {
      "tags": []
     },
     "output_type": "execute_result"
    }
   ],
   "source": [
    "X_test.shape"
   ]
  },
  {
   "cell_type": "code",
   "execution_count": 14,
   "metadata": {
    "colab": {
     "base_uri": "https://localhost:8080/",
     "height": 286
    },
    "colab_type": "code",
    "id": "Fkj0DKDw_iuU",
    "outputId": "b84e34bd-4e14-475f-fb7f-75cfa5d7f6bd"
   },
   "outputs": [
    {
     "data": {
      "text/plain": [
       "<matplotlib.image.AxesImage at 0x7f6bbf300940>"
      ]
     },
     "execution_count": 14,
     "metadata": {
      "tags": []
     },
     "output_type": "execute_result"
    },
    {
     "data": {
      "image/png": "[encoded data removed]",
      "text/plain": [
       "<Figure size 432x288 with 1 Axes>"
      ]
     },
     "metadata": {
      "tags": []
     },
     "output_type": "display_data"
    }
   ],
   "source": [
    "plt.imshow(X_test[0])"
   ]
  },
  {
   "cell_type": "code",
   "execution_count": 15,
   "metadata": {
    "colab": {
     "base_uri": "https://localhost:8080/",
     "height": 134
    },
    "colab_type": "code",
    "id": "_U6WgJlJ_rgM",
    "outputId": "a2cb99c5-96e1-4574-a618-59edb3fbf440"
   },
   "outputs": [
    {
     "data": {
      "text/plain": [
       "array([[3],\n",
       "       [8],\n",
       "       [8],\n",
       "       ...,\n",
       "       [5],\n",
       "       [1],\n",
       "       [7]], dtype=uint8)"
      ]
     },
     "execution_count": 15,
     "metadata": {
      "tags": []
     },
     "output_type": "execute_result"
    }
   ],
   "source": [
    "y_test"
   ]
  },
  {
   "cell_type": "markdown",
   "metadata": {
    "colab_type": "text",
    "id": "l6_52RZd_3iL"
   },
   "source": [
    "## Build CNN Model"
   ]
  },
  {
   "cell_type": "code",
   "execution_count": 0,
   "metadata": {
    "colab": {},
    "colab_type": "code",
    "id": "TE9OT0l3_t6M"
   },
   "outputs": [],
   "source": [
    "model = Sequential()\n",
    "model.add(Conv2D(filters=32, kernel_size=(3, 3), padding='same', activation='relu', input_shape = [32, 32, 3]))\n",
    "\n",
    "model.add(Conv2D(filters=32, kernel_size=(3, 3), padding='same', activation='relu'))\n",
    "model.add(MaxPool2D(pool_size=(2,2), strides=2, padding='valid'))\n",
    "model.add(Dropout(0.5))\n",
    "\n",
    "\n",
    "\n",
    "\n",
    "model.add(Flatten())\n",
    "model.add(Dense(units = 128, activation='relu'))\n",
    "model.add(Dense(units=10, activation='softmax'))\n"
   ]
  },
  {
   "cell_type": "code",
   "execution_count": 20,
   "metadata": {
    "colab": {
     "base_uri": "https://localhost:8080/",
     "height": 386
    },
    "colab_type": "code",
    "id": "GSMuuDwX_1SY",
    "outputId": "219814cf-015a-48cc-be19-29c3f56f90b9"
   },
   "outputs": [
    {
     "name": "stdout",
     "output_type": "stream",
     "text": [
      "Model: \"sequential_1\"\n",
      "_________________________________________________________________\n",
      "Layer (type)                 Output Shape              Param #   \n",
      "=================================================================\n",
      "conv2d_1 (Conv2D)            (None, 32, 32, 32)        896       \n",
      "_________________________________________________________________\n",
      "conv2d_2 (Conv2D)            (None, 32, 32, 32)        9248      \n",
      "_________________________________________________________________\n",
      "max_pooling2d (MaxPooling2D) (None, 16, 16, 32)        0         \n",
      "_________________________________________________________________\n",
      "dropout (Dropout)            (None, 16, 16, 32)        0         \n",
      "_________________________________________________________________\n",
      "flatten (Flatten)            (None, 8192)              0         \n",
      "_________________________________________________________________\n",
      "dense (Dense)                (None, 128)               1048704   \n",
      "_________________________________________________________________\n",
      "dense_1 (Dense)              (None, 10)                1290      \n",
      "=================================================================\n",
      "Total params: 1,060,138\n",
      "Trainable params: 1,060,138\n",
      "Non-trainable params: 0\n",
      "_________________________________________________________________\n"
     ]
    }
   ],
   "source": [
    "model.summary()"
   ]
  },
  {
   "cell_type": "code",
   "execution_count": 0,
   "metadata": {
    "colab": {},
    "colab_type": "code",
    "id": "MIjjDsxM_1WO"
   },
   "outputs": [],
   "source": [
    "model.compile(optimizer='adam', loss = 'sparse_categorical_crossentropy', metrics=['sparse_categorical_accuracy'])"
   ]
  },
  {
   "cell_type": "code",
   "execution_count": 22,
   "metadata": {
    "colab": {
     "base_uri": "https://localhost:8080/",
     "height": 370
    },
    "colab_type": "code",
    "id": "HymomjmG_1b8",
    "outputId": "90ffd4ab-be40-4fc3-deef-34dce3d376e5"
   },
   "outputs": [
    {
     "name": "stdout",
     "output_type": "stream",
     "text": [
      "Train on 50000 samples, validate on 10000 samples\n",
      "Epoch 1/10\n",
      "50000/50000 [==============================] - 255s 5ms/sample - loss: 1.3686 - sparse_categorical_accuracy: 0.5097 - val_loss: 1.0939 - val_sparse_categorical_accuracy: 0.6129\n",
      "Epoch 2/10\n",
      "50000/50000 [==============================] - 253s 5ms/sample - loss: 1.0691 - sparse_categorical_accuracy: 0.6227 - val_loss: 0.9903 - val_sparse_categorical_accuracy: 0.6433\n",
      "Epoch 3/10\n",
      "50000/50000 [==============================] - 253s 5ms/sample - loss: 0.9470 - sparse_categorical_accuracy: 0.6633 - val_loss: 0.9353 - val_sparse_categorical_accuracy: 0.6699\n",
      "Epoch 4/10\n",
      "50000/50000 [==============================] - 251s 5ms/sample - loss: 0.8514 - sparse_categorical_accuracy: 0.6978 - val_loss: 0.9054 - val_sparse_categorical_accuracy: 0.6778\n",
      "Epoch 5/10\n",
      "50000/50000 [==============================] - 252s 5ms/sample - loss: 0.7741 - sparse_categorical_accuracy: 0.7269 - val_loss: 0.8861 - val_sparse_categorical_accuracy: 0.6853\n",
      "Epoch 6/10\n",
      "50000/50000 [==============================] - 254s 5ms/sample - loss: 0.7173 - sparse_categorical_accuracy: 0.7459 - val_loss: 0.8903 - val_sparse_categorical_accuracy: 0.6889\n",
      "Epoch 7/10\n",
      "50000/50000 [==============================] - 251s 5ms/sample - loss: 0.6566 - sparse_categorical_accuracy: 0.7679 - val_loss: 0.8626 - val_sparse_categorical_accuracy: 0.6979\n",
      "Epoch 8/10\n",
      "50000/50000 [==============================] - 253s 5ms/sample - loss: 0.6118 - sparse_categorical_accuracy: 0.7855 - val_loss: 0.8678 - val_sparse_categorical_accuracy: 0.7041\n",
      "Epoch 9/10\n",
      "50000/50000 [==============================] - 251s 5ms/sample - loss: 0.5731 - sparse_categorical_accuracy: 0.7964 - val_loss: 0.8903 - val_sparse_categorical_accuracy: 0.6979\n",
      "Epoch 10/10\n",
      "50000/50000 [==============================] - 252s 5ms/sample - loss: 0.5443 - sparse_categorical_accuracy: 0.8065 - val_loss: 0.9068 - val_sparse_categorical_accuracy: 0.7028\n"
     ]
    }
   ],
   "source": [
    "history = model.fit(X_train, y_train, batch_size=10, epochs=10, verbose=1, validation_data=(X_test, y_test))"
   ]
  },
  {
   "cell_type": "code",
   "execution_count": 25,
   "metadata": {
    "colab": {
     "base_uri": "https://localhost:8080/",
     "height": 574
    },
    "colab_type": "code",
    "id": "WZIuMtXG_1j0",
    "outputId": "cf24a0e7-2554-4f6e-d338-0063e5ab33da"
   },
   "outputs": [
    {
     "data": {
      "image/png": "[encoded data removed]",
      "text/plain": [
       "<Figure size 432x288 with 1 Axes>"
      ]
     },
     "metadata": {
      "tags": []
     },
     "output_type": "display_data"
    },
    {
     "data": {
      "image/png": "[encoded data removed]",
      "text/plain": [
       "<Figure size 432x288 with 1 Axes>"
      ]
     },
     "metadata": {
      "tags": []
     },
     "output_type": "display_data"
    }
   ],
   "source": [
    "# Plot training & validation accuracy values\n",
    "epoch_range = range(1, 11)\n",
    "plt.plot(epoch_range, history.history['sparse_categorical_accuracy'])\n",
    "plt.plot(epoch_range, history.history['val_sparse_categorical_accuracy'])\n",
    "plt.title('Model accuracy')\n",
    "plt.ylabel('Accuracy')\n",
    "plt.xlabel('Epoch')\n",
    "plt.legend(['Train', 'Val'], loc='upper left')\n",
    "plt.show()\n",
    "\n",
    "# Plot training & validation loss values\n",
    "plt.plot(epoch_range, history.history['loss'])\n",
    "plt.plot(epoch_range, history.history['val_loss'])\n",
    "plt.title('Model loss')\n",
    "plt.ylabel('Loss')\n",
    "plt.xlabel('Epoch')\n",
    "plt.legend(['Train', 'Val'], loc='upper left')\n",
    "plt.show()"
   ]
  },
  {
   "cell_type": "code",
   "execution_count": 0,
   "metadata": {
    "colab": {},
    "colab_type": "code",
    "id": "DUTZdT-U_1pY"
   },
   "outputs": [],
   "source": [
    "from mlxtend.plotting import plot_confusion_matrix\n",
    "from sklearn.metrics import confusion_matrix"
   ]
  },
  {
   "cell_type": "code",
   "execution_count": 0,
   "metadata": {
    "colab": {},
    "colab_type": "code",
    "id": "SCLBZYjh_1uh"
   },
   "outputs": [],
   "source": [
    "y_pred = model.predict_classes(X_test)"
   ]
  },
  {
   "cell_type": "code",
   "execution_count": 28,
   "metadata": {
    "colab": {
     "base_uri": "https://localhost:8080/",
     "height": 34
    },
    "colab_type": "code",
    "id": "1mm5dyOz_1z4",
    "outputId": "7fa3a543-0e5c-4e7d-9c97-654838286907"
   },
   "outputs": [
    {
     "data": {
      "text/plain": [
       "array([3, 8, 0, ..., 3, 1, 7])"
      ]
     },
     "execution_count": 28,
     "metadata": {
      "tags": []
     },
     "output_type": "execute_result"
    }
   ],
   "source": [
    "y_pred"
   ]
  },
  {
   "cell_type": "code",
   "execution_count": 29,
   "metadata": {
    "colab": {
     "base_uri": "https://localhost:8080/",
     "height": 134
    },
    "colab_type": "code",
    "id": "Nu0KT7Q-_18H",
    "outputId": "ee39aa68-52dd-4a4c-e8ba-8efcb9960483"
   },
   "outputs": [
    {
     "data": {
      "text/plain": [
       "array([[3],\n",
       "       [8],\n",
       "       [8],\n",
       "       ...,\n",
       "       [5],\n",
       "       [1],\n",
       "       [7]], dtype=uint8)"
      ]
     },
     "execution_count": 29,
     "metadata": {
      "tags": []
     },
     "output_type": "execute_result"
    }
   ],
   "source": [
    "y_test"
   ]
  },
  {
   "cell_type": "code",
   "execution_count": 0,
   "metadata": {
    "colab": {},
    "colab_type": "code",
    "id": "lCLAP_RX_2Gv"
   },
   "outputs": [],
   "source": [
    "mat = confusion_matrix(y_test, y_pred)"
   ]
  },
  {
   "cell_type": "code",
   "execution_count": 34,
   "metadata": {
    "colab": {
     "base_uri": "https://localhost:8080/",
     "height": 185
    },
    "colab_type": "code",
    "id": "rzWoflfi_2LE",
    "outputId": "e8f33d79-6bc4-4e30-cc25-f712f4fb8447"
   },
   "outputs": [
    {
     "data": {
      "text/plain": [
       "array([[687,  23,  59,  21,  28,  11,  16,  10,  86,  59],\n",
       "       [  5, 791,  13,  11,   1,   1,   5,   2,  35, 136],\n",
       "       [ 55,   4, 551,  69,  86,  71,  88,  43,  24,   9],\n",
       "       [ 12,   7,  64, 518,  62, 199,  61,  34,  14,  29],\n",
       "       [ 10,   6,  57,  69, 683,  37,  57,  65,  10,   6],\n",
       "       [  8,   5,  52, 182,  51, 597,  20,  61,  13,  11],\n",
       "       [  5,   5,  41,  60,  41,  26, 795,   6,  16,   5],\n",
       "       [  9,   5,  31,  46,  60,  62,   5, 761,   5,  16],\n",
       "       [ 37,  28,  12,  19,   7,   9,   5,   8, 834,  41],\n",
       "       [ 23,  76,   5,  16,   4,   5,   7,  22,  31, 811]])"
      ]
     },
     "execution_count": 34,
     "metadata": {
      "tags": []
     },
     "output_type": "execute_result"
    }
   ],
   "source": [
    "mat"
   ]
  },
  {
   "cell_type": "code",
   "execution_count": 38,
   "metadata": {
    "colab": {
     "base_uri": "https://localhost:8080/",
     "height": 625
    },
    "colab_type": "code",
    "id": "PU2-6se5_2VU",
    "outputId": "f2cd179a-9787-427b-a90e-6518593af38c"
   },
   "outputs": [
    {
     "data": {
      "text/plain": [
       "(<Figure size 648x648 with 1 Axes>,\n",
       " <matplotlib.axes._subplots.AxesSubplot at 0x7f6ba55ae518>)"
      ]
     },
     "execution_count": 38,
     "metadata": {
      "tags": []
     },
     "output_type": "execute_result"
    },
    {
     "data": {
      "image/png": "[encoded data removed]",
      "text/plain": [
       "<Figure size 648x648 with 1 Axes>"
      ]
     },
     "metadata": {
      "tags": []
     },
     "output_type": "display_data"
    }
   ],
   "source": [
    "plot_confusion_matrix(mat,figsize=(9,9), class_names=classes_name, show_normed=True)"
   ]
  },
  {
   "cell_type": "code",
   "execution_count": 0,
   "metadata": {
    "colab": {},
    "colab_type": "code",
    "id": "w_GVGetJ_2ED"
   },
   "outputs": [],
   "source": []
  },
  {
   "cell_type": "code",
   "execution_count": 0,
   "metadata": {
    "colab": {},
    "colab_type": "code",
    "id": "Szi_WmnR_2BK"
   },
   "outputs": [],
   "source": []
  },
  {
   "cell_type": "code",
   "execution_count": 0,
   "metadata": {
    "colab": {},
    "colab_type": "code",
    "id": "DaaegOAq_1_f"
   },
   "outputs": [],
   "source": []
  },
  {
   "cell_type": "code",
   "execution_count": 0,
   "metadata": {
    "colab": {},
    "colab_type": "code",
    "id": "36MrbEIo_150"
   },
   "outputs": [],
   "source": []
  },
  {
   "cell_type": "code",
   "execution_count": 0,
   "metadata": {
    "colab": {},
    "colab_type": "code",
    "id": "IAh73URz_13Y"
   },
   "outputs": [],
   "source": []
  },
  {
   "cell_type": "code",
   "execution_count": 0,
   "metadata": {
    "colab": {},
    "colab_type": "code",
    "id": "yCTSuAMe_1xu"
   },
   "outputs": [],
   "source": []
  },
  {
   "cell_type": "code",
   "execution_count": 0,
   "metadata": {
    "colab": {},
    "colab_type": "code",
    "id": "6-3UdkoU_1sk"
   },
   "outputs": [],
   "source": []
  },
  {
   "cell_type": "code",
   "execution_count": 0,
   "metadata": {
    "colab": {},
    "colab_type": "code",
    "id": "fDkyVU_E_1n4"
   },
   "outputs": [],
   "source": []
  },
  {
   "cell_type": "code",
   "execution_count": 0,
   "metadata": {
    "colab": {},
    "colab_type": "code",
    "id": "tddEYity_1il"
   },
   "outputs": [],
   "source": []
  },
  {
   "cell_type": "code",
   "execution_count": 0,
   "metadata": {
    "colab": {},
    "colab_type": "code",
    "id": "23mJ2kfh_1aw"
   },
   "outputs": [],
   "source": []
  }
 ],
 "metadata": {
  "accelerator": "TPU",
  "colab": {
   "name": "TensorFlow 2.0 Tutorials for Beginners - 2D CNN in TensorFlow 2.0 for cifar10 Dataset Classification.ipynb",
   "provenance": [],
   "version": "0.3.2"
  },
  "kernelspec": {
   "display_name": "Python 3",
   "language": "python",
   "name": "python3"
  },
  "language_info": {
   "codemirror_mode": {
    "name": "ipython",
    "version": 3
   },
   "file_extension": ".py",
   "mimetype": "text/x-python",
   "name": "python",
   "nbconvert_exporter": "python",
   "pygments_lexer": "ipython3",
   "version": "3.6.10"
  }
 },
 "nbformat": 4,
 "nbformat_minor": 1
}
